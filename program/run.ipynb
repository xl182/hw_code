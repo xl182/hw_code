{
 "cells": [
  {
   "cell_type": "code",
   "execution_count": 11,
   "metadata": {},
   "outputs": [
    {
     "name": "stderr",
     "output_type": "stream",
     "text": [
      "[INFO] The interactor is starting to run.\n",
      "[INFO] Period 1 (1s~1800s) has been completed, used 9.2410s, current score: 0.0000.\n",
      "[INFO] Period 2 (1801s~3600s) has been completed, used 0.2540s, current score: 0.0000.\n",
      "wrong answer {\"error_code\":\"n_abort_error\",\"score\":\"0.0000\",\"timestamp\":\"5037\",\"action\":\"delete\",\"role\":\"player\",\"message\":\"Integer parameter [name=n_abort] equals to 9, violates the range [11, 11].\"}\n"
     ]
    }
   ],
   "source": [
    "!python ..\\run.py ..\\interactor\\windows\\interactor.exe ..\\data\\sample_practice.in \"python main.py\" -l 0"
   ]
  },
  {
   "cell_type": "code",
   "execution_count": 7,
   "metadata": {},
   "outputs": [
    {
     "name": "stdout",
     "output_type": "stream",
     "text": [
      "^C\n"
     ]
    }
   ],
   "source": [
    "!vizviewer result.json --port 9002"
   ]
  }
 ],
 "metadata": {
  "kernelspec": {
   "display_name": "scipy",
   "language": "python",
   "name": "python3"
  },
  "language_info": {
   "codemirror_mode": {
    "name": "ipython",
    "version": 3
   },
   "file_extension": ".py",
   "mimetype": "text/x-python",
   "name": "python",
   "nbconvert_exporter": "python",
   "pygments_lexer": "ipython3",
   "version": "3.8.20"
  }
 },
 "nbformat": 4,
 "nbformat_minor": 2
}
