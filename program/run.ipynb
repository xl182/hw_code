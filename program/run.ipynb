{
 "cells": [
  {
   "cell_type": "code",
   "execution_count": null,
   "metadata": {},
   "outputs": [
    {
     "name": "stderr",
     "output_type": "stream",
     "text": [
      "[INFO] The interactor is starting to run.\n",
      "wrong answer {\"error_code\":\"unit_is_used\",\"score\":\"0.0000\",\"timestamp\":\"276\",\"action\":\"write\",\"role\":\"player\",\"object\":\"704\",\"disk\":\"1\",\"unit\":\"2308\",\"message\":\"The unit has been used by object 678.\"}\n"
     ]
    },
    {
     "ename": "",
     "evalue": "",
     "output_type": "error",
     "traceback": [
      "\u001b[1;31m在当前单元格或上一个单元格中执行代码时 Kernel 崩溃。\n",
      "\u001b[1;31m请查看单元格中的代码，以确定故障的可能原因。\n",
      "\u001b[1;31m单击<a href='https://aka.ms/vscodeJupyterKernelCrash'>此处</a>了解详细信息。\n",
      "\u001b[1;31m有关更多详细信息，请查看 Jupyter <a href='command:jupyter.viewOutput'>log</a>。"
     ]
    }
   ],
   "source": [
    "!python ..\\run.py ..\\interactor\\windows\\interactor.exe ..\\data\\sample_practice.in \"python main.py\" -d -r 999"
   ]
  },
  {
   "cell_type": "code",
   "execution_count": null,
   "metadata": {},
   "outputs": [],
   "source": [
    "# global delete_info, write_info, read_info\n",
    "# global disk\n",
    "# global tag_assignments, write_cost, read_positions, read_requests\n",
    "# global write_index, write_positions, write_bounds, write_dict\n",
    "# global empty_spaces, used_spaces"
   ]
  }
 ],
 "metadata": {
  "kernelspec": {
   "display_name": "base",
   "language": "python",
   "name": "python3"
  },
  "language_info": {
   "codemirror_mode": {
    "name": "ipython",
    "version": 3
   },
   "file_extension": ".py",
   "mimetype": "text/x-python",
   "name": "python",
   "nbconvert_exporter": "python",
   "pygments_lexer": "ipython3",
   "version": "3.12.4"
  }
 },
 "nbformat": 4,
 "nbformat_minor": 2
}
