{
 "cells": [
  {
   "cell_type": "code",
   "execution_count": null,
   "metadata": {},
   "outputs": [
    {
     "name": "stderr",
     "output_type": "stream",
     "text": [
      "[INFO] The interactor is starting to run.\n",
      "[INFO] Period 1 (1s~1800s) has been completed, used 10.9690s, current score: 0.0000.\n",
      "[INFO] Period 2 (1801s~3600s) has been completed, used 0.3160s, current score: 0.0000.\n",
      "[INFO] Period 3 (3601s~5400s) has been completed, used 0.3820s, current score: 0.0000.\n",
      "[INFO] Period 4 (5401s~7200s) has been completed, used 0.4090s, current score: 0.0000.\n",
      "[INFO] Period 5 (7201s~9000s) has been completed, used 0.3780s, current score: 0.0000.\n",
      "[INFO] Period 6 (9001s~10800s) has been completed, used 0.3640s, current score: 0.0000.\n",
      "[INFO] Period 7 (10801s~12600s) has been completed, used 0.5540s, current score: 0.0000.\n",
      "[INFO] Period 8 (12601s~14400s) has been completed, used 0.6890s, current score: 0.0000.\n",
      "[INFO] Period 9 (14401s~16200s) has been completed, used 0.9080s, current score: 0.0000.\n",
      "[INFO] Period 10 (16201s~18000s) has been completed, used 0.9880s, current score: 0.0000.\n",
      "[INFO] Period 11 (18001s~19800s) has been completed, used 1.0480s, current score: 0.0000.\n",
      "[INFO] Period 12 (19801s~21600s) has been completed, used 1.1440s, current score: 0.0000.\n",
      "[INFO] Period 13 (21601s~23400s) has been completed, used 1.2300s, current score: 0.0000.\n",
      "[INFO] Period 14 (23401s~25200s) has been completed, used 1.2960s, current score: 0.0000.\n",
      "[INFO] Period 15 (25201s~27000s) has been completed, used 1.4120s, current score: 0.0000.\n",
      "[INFO] Period 16 (27001s~28800s) has been completed, used 1.6420s, current score: 0.0000.\n",
      "[INFO] Period 17 (28801s~30600s) has been completed, used 1.5370s, current score: 0.0000.\n",
      "[INFO] Period 18 (30601s~32400s) has been completed, used 1.6490s, current score: 0.0000.\n",
      "[INFO] Period 19 (32401s~34200s) has been completed, used 1.8070s, current score: 0.0000.\n",
      "[INFO] Period 20 (34201s~36000s) has been completed, used 1.9660s, current score: 0.0000.\n",
      "[INFO] Period 21 (36001s~37800s) has been completed, used 2.0780s, current score: 0.0000.\n",
      "[INFO] Period 22 (37801s~39600s) has been completed, used 2.0190s, current score: 0.0000.\n",
      "[INFO] Period 23 (39601s~41400s) has been completed, used 2.0010s, current score: 0.0000.\n",
      "[INFO] Period 24 (41401s~43200s) has been completed, used 2.1820s, current score: 0.0000.\n",
      "[INFO] Period 25 (43201s~45000s) has been completed, used 2.1350s, current score: 0.0000.\n",
      "[INFO] Period 26 (45001s~46800s) has been completed, used 1.8870s, current score: 0.0000.\n",
      "[INFO] Period 27 (46801s~48600s) has been completed, used 1.7570s, current score: 0.0000.\n",
      "[INFO] Period 28 (48601s~50400s) has been completed, used 8.4570s, current score: 0.0000.\n",
      "[INFO] Period 29 (50401s~52200s) has been completed, used 14.6000s, current score: 0.0000.\n",
      "[INFO] Period 30 (52201s~54000s) has been completed, used 15.8780s, current score: 0.0000.\n",
      "[INFO] Period 31 (54001s~55800s) has been completed, used 15.3660s, current score: 0.0000.\n",
      "[INFO] Period 32 (55801s~57600s) has been completed, used 15.9000s, current score: 0.0000.\n",
      "[INFO] Period 33 (57601s~59400s) has been completed, used 14.9130s, current score: 0.0000.\n",
      "[INFO] Period 34 (59401s~61200s) has been completed, used 16.7160s, current score: 0.0000.\n",
      "[INFO] Period 35 (61201s~63000s) has been completed, used 15.4990s, current score: 0.0000.\n",
      "[INFO] Period 36 (63001s~64800s) has been completed, used 14.0390s, current score: 0.0000.\n",
      "[INFO] Period 37 (64801s~66600s) has been completed, used 15.4920s, current score: 0.0000.\n",
      "[INFO] Period 38 (66601s~68400s) has been completed, used 13.7390s, current score: 0.0000.\n",
      "[INFO] Period 39 (68401s~70200s) has been completed, used 14.0330s, current score: 0.0000.\n",
      "[INFO] Period 40 (70201s~72000s) has been completed, used 14.2070s, current score: 0.0000.\n",
      "[INFO] Period 41 (72001s~73800s) has been completed, used 12.7160s, current score: 0.0000.\n",
      "[INFO] Period 42 (73801s~75600s) has been completed, used 11.5430s, current score: 0.0000.\n",
      "[INFO] Period 43 (75601s~77400s) has been completed, used 11.1910s, current score: 0.0000.\n",
      "[INFO] Period 44 (77401s~79200s) has been completed, used 10.1910s, current score: 0.0000.\n",
      "[INFO] Period 45 (79201s~81000s) has been completed, used 9.2430s, current score: 0.0000.\n",
      "[INFO] Period 46 (81001s~82800s) has been completed, used 7.3350s, current score: 0.0000.\n",
      "[INFO] Period 47 (82801s~84600s) has been completed, used 6.1340s, current score: 0.0000.\n",
      "[INFO] Period 48 (84601s~86400s) has been completed, used 6.5530s, current score: 0.0000.\n",
      "[INFO] Period 49 (86401s~86505s) has been completed, used 0.2070s, current score: 0.0000.\n",
      "ok {\"error_code\":\"interaction_successful\",\"score\":\"0.0000\",\"message\":\"Interaction successful, score: 0.0000 (0.0000%), used: 308.7010s.\"}\n"
     ]
    }
   ],
   "source": [
    "!python ..\\run.py ..\\interactor\\windows\\interactor.exe ..\\data\\sample_practice.in \"python main.py\" -l 0"
   ]
  },
  {
   "cell_type": "code",
   "execution_count": null,
   "metadata": {},
   "outputs": [],
   "source": []
  }
 ],
 "metadata": {
  "kernelspec": {
   "display_name": "hw_code",
   "language": "python",
   "name": "python3"
  },
  "language_info": {
   "codemirror_mode": {
    "name": "ipython",
    "version": 3
   },
   "file_extension": ".py",
   "mimetype": "text/x-python",
   "name": "python",
   "nbconvert_exporter": "python",
   "pygments_lexer": "ipython3",
   "version": "3.7.12"
  }
 },
 "nbformat": 4,
 "nbformat_minor": 2
}
