{
 "cells": [
  {
   "cell_type": "code",
   "execution_count": 1,
   "metadata": {},
   "outputs": [
    {
     "name": "stderr",
     "output_type": "stream",
     "text": [
      "[INFO] The interactor is starting to run.\n",
      "[INFO] Period 1 (1s~1800s) has been completed, used 13.1960s, current score: 0.0000.\n",
      "[INFO] Period 2 (1801s~3600s) has been completed, used 0.5440s, current score: 0.0000.\n",
      "[INFO] Period 3 (3601s~5400s) has been completed, used 0.5490s, current score: 0.0000.\n",
      "[INFO] Period 4 (5401s~7200s) has been completed, used 0.5430s, current score: 0.0000.\n",
      "[INFO] Period 5 (7201s~9000s) has been completed, used 0.5260s, current score: 0.0000.\n",
      "[INFO] Period 6 (9001s~10800s) has been completed, used 0.5950s, current score: 0.0000.\n",
      "[INFO] Period 7 (10801s~12600s) has been completed, used 1.0240s, current score: 0.0000.\n",
      "[INFO] Period 8 (12601s~14400s) has been completed, used 1.3530s, current score: 0.0000.\n",
      "[INFO] Period 9 (14401s~16200s) has been completed, used 1.8810s, current score: 0.0000.\n",
      "wrong output format {\"error_code\":\"expected_integer_failed\",\"score\":\"0.0000\",\"timestamp\":\"16848\",\"action\":\"write\",\"role\":\"player\",\"message\":\"Expected integer, but \\\"================================\\\" found\"}\n"
     ]
    }
   ],
   "source": [
    "!python ..\\run.py ..\\interactor\\windows\\interactor.exe ..\\data\\sample_practice.in \"python main.py\" -d"
   ]
  },
  {
   "cell_type": "code",
   "execution_count": null,
   "metadata": {},
   "outputs": [],
   "source": [
    "# global delete_info, write_info, read_info\n",
    "# global disk\n",
    "# global tag_assignments, write_cost, read_positions, read_requests\n",
    "# global write_index, write_positions, write_bounds, write_dict\n",
    "# global empty_spaces, used_spaces"
   ]
  }
 ],
 "metadata": {
  "kernelspec": {
   "display_name": "base",
   "language": "python",
   "name": "python3"
  },
  "language_info": {
   "codemirror_mode": {
    "name": "ipython",
    "version": 3
   },
   "file_extension": ".py",
   "mimetype": "text/x-python",
   "name": "python",
   "nbconvert_exporter": "python",
   "pygments_lexer": "ipython3",
   "version": "3.12.4"
  }
 },
 "nbformat": 4,
 "nbformat_minor": 2
}
