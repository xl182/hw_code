{
 "cells": [
  {
   "cell_type": "code",
   "execution_count": 13,
   "metadata": {},
   "outputs": [
    {
     "name": "stderr",
     "output_type": "stream",
     "text": [
      "[INFO] The interactor is starting to run.\n",
      "[INFO] Period 1 (1s~1800s) has been completed, used 11.2720s, current score: 0.0000.\n",
      "[INFO] Period 2 (1801s~3600s) has been completed, used 0.2700s, current score: 0.0000.\n",
      "[INFO] Period 3 (3601s~5400s) has been completed, used 0.3200s, current score: 0.0000.\n",
      "[INFO] Period 4 (5401s~7200s) has been completed, used 0.3300s, current score: 0.0000.\n",
      "[INFO] Period 5 (7201s~9000s) has been completed, used 0.3090s, current score: 0.0000.\n",
      "[INFO] Period 6 (9001s~10800s) has been completed, used 0.3500s, current score: 0.0000.\n",
      "[INFO] Period 7 (10801s~12600s) has been completed, used 0.4550s, current score: 0.0000.\n",
      "[INFO] Period 8 (12601s~14400s) has been completed, used 0.5480s, current score: 0.0000.\n",
      "[INFO] Period 9 (14401s~16200s) has been completed, used 0.6750s, current score: 0.0000.\n",
      "[INFO] Period 10 (16201s~18000s) has been completed, used 0.7680s, current score: 0.0000.\n",
      "[INFO] Period 11 (18001s~19800s) has been completed, used 0.8910s, current score: 0.0000.\n",
      "[INFO] Period 12 (19801s~21600s) has been completed, used 0.9890s, current score: 0.0000.\n",
      "[INFO] Period 13 (21601s~23400s) has been completed, used 0.8760s, current score: 0.0000.\n",
      "[INFO] Period 14 (23401s~25200s) has been completed, used 0.9150s, current score: 0.0000.\n",
      "[INFO] Period 15 (25201s~27000s) has been completed, used 1.0510s, current score: 0.0000.\n",
      "[INFO] Period 16 (27001s~28800s) has been completed, used 1.0970s, current score: 0.0000.\n",
      "[INFO] Period 17 (28801s~30600s) has been completed, used 1.0280s, current score: 0.0000.\n",
      "[INFO] Period 18 (30601s~32400s) has been completed, used 1.0770s, current score: 0.0000.\n",
      "[INFO] Period 19 (32401s~34200s) has been completed, used 1.1090s, current score: 0.0000.\n",
      "[INFO] Period 20 (34201s~36000s) has been completed, used 1.3550s, current score: 0.0000.\n",
      "[INFO] Period 21 (36001s~37800s) has been completed, used 1.3040s, current score: 0.0000.\n",
      "[INFO] Period 22 (37801s~39600s) has been completed, used 1.3600s, current score: 0.0000.\n",
      "[INFO] Period 23 (39601s~41400s) has been completed, used 1.4470s, current score: 0.0000.\n",
      "[INFO] Period 24 (41401s~43200s) has been completed, used 1.6580s, current score: 0.0000.\n",
      "[INFO] Period 25 (43201s~45000s) has been completed, used 1.5600s, current score: 0.0000.\n",
      "[INFO] Period 26 (45001s~46800s) has been completed, used 1.5170s, current score: 0.0000.\n",
      "[INFO] Period 27 (46801s~48600s) has been completed, used 1.2510s, current score: 0.0000.\n",
      "[INFO] Period 28 (48601s~50400s) has been completed, used 1.3540s, current score: 0.0000.\n",
      "[INFO] Period 29 (50401s~52200s) has been completed, used 1.6070s, current score: 0.0000.\n",
      "[INFO] Period 30 (52201s~54000s) has been completed, used 1.7140s, current score: 0.0000.\n",
      "[INFO] Period 31 (54001s~55800s) has been completed, used 1.8740s, current score: 0.0000.\n",
      "[INFO] Period 32 (55801s~57600s) has been completed, used 1.9310s, current score: 0.0000.\n",
      "[INFO] Period 33 (57601s~59400s) has been completed, used 1.8030s, current score: 0.0000.\n",
      "[INFO] Period 34 (59401s~61200s) has been completed, used 1.9820s, current score: 0.0000.\n",
      "[INFO] Period 35 (61201s~63000s) has been completed, used 1.6460s, current score: 0.0000.\n",
      "[INFO] Period 36 (63001s~64800s) has been completed, used 1.7770s, current score: 0.0000.\n",
      "[INFO] Period 37 (64801s~66600s) has been completed, used 2.0060s, current score: 0.0000.\n",
      "[INFO] Period 38 (66601s~68400s) has been completed, used 2.0180s, current score: 0.0000.\n",
      "[INFO] Period 39 (68401s~70200s) has been completed, used 2.3550s, current score: 0.0000.\n",
      "[INFO] Period 40 (70201s~72000s) has been completed, used 2.0940s, current score: 0.0000.\n",
      "[INFO] Period 41 (72001s~73800s) has been completed, used 1.9470s, current score: 0.0000.\n",
      "[INFO] Period 42 (73801s~75600s) has been completed, used 1.4800s, current score: 0.0000.\n",
      "[INFO] Period 43 (75601s~77400s) has been completed, used 1.4830s, current score: 0.0000.\n",
      "[INFO] Period 44 (77401s~79200s) has been completed, used 1.2100s, current score: 0.0000.\n",
      "[INFO] Period 45 (79201s~81000s) has been completed, used 1.0110s, current score: 0.0000.\n",
      "[INFO] Period 46 (81001s~82800s) has been completed, used 0.7300s, current score: 0.0000.\n",
      "[INFO] Period 47 (82801s~84600s) has been completed, used 0.8250s, current score: 0.0000.\n",
      "[INFO] Period 48 (84601s~86400s) has been completed, used 0.6780s, current score: 0.0000.\n",
      "[INFO] Period 49 (86401s~86505s) has been completed, used 0.0390s, current score: 0.0000.\n",
      "ok {\"error_code\":\"interaction_successful\",\"score\":\"0.0000\",\"message\":\"Interaction successful, score: 0.0000 (0.0000%), used: 69.3480s.\"}\n"
     ]
    }
   ],
   "source": [
    "!python ..\\run.py ..\\interactor\\windows\\interactor.exe ..\\data\\sample_practice.in \"python main.py\" -l 0"
   ]
  },
  {
   "cell_type": "code",
   "execution_count": 7,
   "metadata": {},
   "outputs": [
    {
     "name": "stdout",
     "output_type": "stream",
     "text": [
      "^C\n"
     ]
    }
   ],
   "source": [
    "!vizviewer result.json --port 9002"
   ]
  }
 ],
 "metadata": {
  "kernelspec": {
   "display_name": "scipy",
   "language": "python",
   "name": "python3"
  },
  "language_info": {
   "codemirror_mode": {
    "name": "ipython",
    "version": 3
   },
   "file_extension": ".py",
   "mimetype": "text/x-python",
   "name": "python",
   "nbconvert_exporter": "python",
   "pygments_lexer": "ipython3",
   "version": "3.8.20"
  }
 },
 "nbformat": 4,
 "nbformat_minor": 2
}
