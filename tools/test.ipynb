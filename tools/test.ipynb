{
 "cells": [
  {
   "cell_type": "code",
   "execution_count": 1,
   "metadata": {},
   "outputs": [],
   "source": [
    "import bisect\n",
    "\n",
    "\n",
    "def find_larger_pos(src_list, value):\n",
    "    if not src_list:\n",
    "        return value\n",
    "\n",
    "    pos = bisect.bisect_right(src_list, value)\n",
    "    if pos >= len(src_list):\n",
    "        return -1\n",
    "    return pos"
   ]
  },
  {
   "cell_type": "code",
   "execution_count": 11,
   "metadata": {},
   "outputs": [
    {
     "data": {
      "text/plain": [
       "1"
      ]
     },
     "execution_count": 11,
     "metadata": {},
     "output_type": "execute_result"
    }
   ],
   "source": [
    "find_larger_pos([1, 8], 7)"
   ]
  },
  {
   "cell_type": "code",
   "execution_count": 16,
   "metadata": {},
   "outputs": [
    {
     "name": "stdout",
     "output_type": "stream",
     "text": [
      "(3, 3, 4, 4, 5, 5, 6, 7, 9, 10) (1, 10, 7, 9, 2, 6, 8, 3, 4, 5, 0)\n"
     ]
    }
   ],
   "source": [
    "selected_list = [i for i in range(10 + 1)]\n",
    "request_size = [0, 3, 5, 7, 9, 10, 5, 4, 6, 4, 3]\n",
    "request_size[0] = 5192 + 1\n",
    "combined = list(zip(request_size, selected_list))\n",
    "sorted_combined = sorted(combined, key=lambda x: x[0])\n",
    "request_size, selected_list = zip(*sorted_combined)\n",
    "print(request_size[:-1], selected_list)"
   ]
  }
 ],
 "metadata": {
  "kernelspec": {
   "display_name": "hw_code",
   "language": "python",
   "name": "python3"
  },
  "language_info": {
   "codemirror_mode": {
    "name": "ipython",
    "version": 3
   },
   "file_extension": ".py",
   "mimetype": "text/x-python",
   "name": "python",
   "nbconvert_exporter": "python",
   "pygments_lexer": "ipython3",
   "version": "3.7.12"
  }
 },
 "nbformat": 4,
 "nbformat_minor": 2
}
